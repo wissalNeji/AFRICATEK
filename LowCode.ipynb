{
  "nbformat": 4,
  "nbformat_minor": 0,
  "metadata": {
    "colab": {
      "provenance": []
    },
    "kernelspec": {
      "name": "python3",
      "display_name": "Python 3"
    },
    "language_info": {
      "name": "python"
    }
  },
  "cells": [
    {
      "cell_type": "code",
      "execution_count": null,
      "metadata": {
        "id": "G9mBAmD-qG28"
      },
      "outputs": [],
      "source": [
        "%%writefile app.py\n",
        "import streamlit as st\n",
        "import pandas as pd\n",
        "import io\n",
        "\n",
        "st.title(\"AI-Powered Data Cleaner & Summarizer\")\n",
        "st.write(\"This app will clean your data and generate a summary.\")\n",
        "uploaded_file = st.file_uploader(\"📤 Upload your CSV file\", type=[\"csv\"])\n",
        "if uploaded_file:\n",
        "  df = pd.read_csv(uploaded_file)\n",
        "  df.fillna(df.mean(numeric_only=True), inplace=True)\n",
        "  st.subheader(\"👀 Preview of Uploaded Data\")\n",
        "  st.dataframe(df.head())\n",
        "  st.subheader(\"📊 Dataset Info\")\n",
        "  buffer = io.StringIO()\n",
        "  df.info(buf=buffer)\n",
        "  s = buffer.getvalue()\n",
        "  st.text(s)\n",
        "    # Display descriptive statistics\n",
        "  st.subheader(\"📈 Summary Statistics\")\n",
        "  st.dataframe(df.describe())"
      ]
    },
    {
      "cell_type": "code",
      "source": [
        "from google.colab import files\n",
        "files.download('app.py')"
      ],
      "metadata": {
        "id": "1Vrz6yBWsYU4"
      },
      "execution_count": null,
      "outputs": []
    }
  ]
}