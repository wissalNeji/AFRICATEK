{
  "nbformat": 4,
  "nbformat_minor": 0,
  "metadata": {
    "colab": {
      "provenance": []
    },
    "kernelspec": {
      "name": "python3",
      "display_name": "Python 3"
    },
    "language_info": {
      "name": "python"
    }
  },
  "cells": [
    {
      "cell_type": "code",
      "execution_count": null,
      "metadata": {
        "id": "I4XWRlTc4Yrt"
      },
      "outputs": [],
      "source": [
        "import pandas as pd\n",
        "from google.colab import files\n",
        "# Upload the file manually (if not uploaded via UI)\n",
        "uploaded = files.upload()\n",
        "file_name = list(uploaded.keys())[0]\n",
        "df = pd.read_csv(io.StringIO(uploaded[file_name].decode('utf-8')))\n",
        "\n",
        "# Load the file into a DataFrame and preview\n",
        "# df = pd.read_csv('healthcare_messy_data.csv')\n",
        "# df.head()"
      ]
    },
    {
      "cell_type": "code",
      "source": [
        "# Check the structure of the dataset: number of rows, columns, data types, and missing values\n",
        "df.info()\n",
        "\n",
        "# Get summary statistics for numerical columns: mean, min, max, etc.\n",
        "df.describe()\n"
      ],
      "metadata": {
        "id": "PkPJ0oN19hQs"
      },
      "execution_count": null,
      "outputs": []
    },
    {
      "cell_type": "code",
      "source": [
        "#Basic Data Cleaning\n",
        "\n",
        "# Make a copy of the original DataFrame before cleaning\n",
        "df_clean = df.copy()\n",
        "\n",
        "# Drop rows with missing values\n",
        "df_clean  = df_clean .dropna()\n",
        "\n",
        "# Or fill missing values\n",
        "df_clean ['Age'] = df_clean ['Age'].fillna(0)\n"
      ],
      "metadata": {
        "id": "S98k7c-Y4v00"
      },
      "execution_count": 5,
      "outputs": []
    },
    {
      "cell_type": "code",
      "source": [
        "#Insert your code here\n",
        "\n",
        "\n",
        "\n",
        "\n",
        "\n",
        "\n"
      ],
      "metadata": {
        "id": "Nqd_2m2o_CrI"
      },
      "execution_count": null,
      "outputs": []
    },
    {
      "cell_type": "code",
      "source": [
        "# Check the structure of the dataset: number of rows, columns, data types, and missing values\n",
        "df_clean.info()\n",
        "\n",
        "# Get summary statistics for numerical columns: mean, min, max, etc.\n",
        "df_clean.describe()"
      ],
      "metadata": {
        "id": "YPiq9aYA9wuA"
      },
      "execution_count": null,
      "outputs": []
    }
  ]
}
